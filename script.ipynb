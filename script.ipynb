{
 "cells": [
  {
   "cell_type": "code",
   "execution_count": 1,
   "id": "88c2e083",
   "metadata": {
    "scrolled": true
   },
   "outputs": [
    {
     "name": "stdout",
     "output_type": "stream",
     "text": [
      "Enter topic: fan\n",
      "setting\n",
      "help\n",
      "space\n",
      "area\n",
      "cool\n",
      "model\n",
      "pleasant\n",
      "cooling\n",
      "size\n",
      "living\n"
     ]
    }
   ],
   "source": [
    "from bs4 import BeautifulSoup\n",
    "from urllib.request import urlopen\n",
    "from googlesearch import search\n",
    "import nltk\n",
    "from nltk.tokenize import word_tokenize\n",
    "from nltk.stem import WordNetLemmatizer\n",
    "from nltk.corpus import stopwords\n",
    "import requests\n",
    "import signal\n",
    "import re\n",
    "from contextlib import contextmanager\n",
    "\n",
    "\n",
    "class TimeoutException(Exception): \n",
    "    pass\n",
    "\n",
    "@contextmanager\n",
    "def time_limit(seconds):\n",
    "    def signal_handler(signum, frame):\n",
    "        raise TimeoutException(\"Timed out!\")\n",
    "    signal.signal(signal.SIGALRM, signal_handler)\n",
    "    signal.alarm(seconds)\n",
    "    try:\n",
    "        yield\n",
    "    finally:\n",
    "        signal.alarm(0)\n",
    "\n",
    "topic = input(\"Enter topic: \")\n",
    "texts = []\n",
    "for j in search(topic, tld=\"com\", num=10, stop=10, pause=2):\n",
    "    try:\n",
    "        with time_limit(30):\n",
    "            content = requests.get(j)\n",
    "            soup = BeautifulSoup(content.text, 'lxml')\n",
    "            p_tags = soup.find_all('p')\n",
    "            for paragraph in p_tags:\n",
    "                texts.append(paragraph.text)\n",
    "    except TimeoutException as e:\n",
    "        continue\n",
    "\n",
    "words = []\n",
    "\n",
    "for text in texts:\n",
    "    tokens = word_tokenize(text) \n",
    "    lemmatizer = WordNetLemmatizer() \n",
    "    tokens = [lemmatizer.lemmatize(token) for token in tokens] \n",
    "    tokens = [re.sub('[^\\w\\s]','',token) for token in tokens]\n",
    "    tokens = [token.lower() for token in tokens]\n",
    "\n",
    "    stop_words = set(stopwords.words('english'))\n",
    "    filtered_words = [w for w in tokens if not w.lower() in stop_words]\n",
    "    filtered_words = [w for w in filtered_words if w != \"wa\" and w != topic]\n",
    "    words.extend(filtered_words)\n",
    "\n",
    "eng_words = set(nltk.corpus.words.words())\n",
    "words = [word for word in words if word in eng_words]\n",
    "word_occurrences = [(word, words.count(word)) for word in set(words)]\n",
    "word_occurrences.sort(key=lambda x:x[1], reverse=True)\n",
    "\n",
    "# print the first 10 elements from the list\n",
    "for pair in word_occurrences[:10]:\n",
    "    print(pair[0]);\n",
    "    \n"
   ]
  },
  {
   "cell_type": "code",
   "execution_count": null,
   "id": "020bf6ce",
   "metadata": {},
   "outputs": [],
   "source": []
  }
 ],
 "metadata": {
  "kernelspec": {
   "display_name": "Python 3 (ipykernel)",
   "language": "python",
   "name": "python3"
  },
  "language_info": {
   "codemirror_mode": {
    "name": "ipython",
    "version": 3
   },
   "file_extension": ".py",
   "mimetype": "text/x-python",
   "name": "python",
   "nbconvert_exporter": "python",
   "pygments_lexer": "ipython3",
   "version": "3.9.13"
  }
 },
 "nbformat": 4,
 "nbformat_minor": 5
}
